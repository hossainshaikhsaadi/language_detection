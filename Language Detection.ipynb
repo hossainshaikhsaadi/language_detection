{
 "cells": [
  {
   "cell_type": "code",
   "execution_count": 1,
   "id": "38887049",
   "metadata": {},
   "outputs": [],
   "source": [
    "from sklearn_models import train_all_sklearn_models\n",
    "from train_test import bilstm_pipeline, plms_pipelines"
   ]
  },
  {
   "cell_type": "code",
   "execution_count": null,
   "id": "8d1b9ec1",
   "metadata": {},
   "outputs": [],
   "source": [
    "# train and test all the sklearn models (Logistic Regression, Random Forest, Logistic Regression, Support Vector Machine\n",
    "# and voting classifier consists of Logistic Regression, Random Forest, Logistic Regression, Support Vector Machine\n",
    "# with soft voting\n",
    "train_all_sklearn_models()\n",
    "\n",
    "# train, validate and test the BiLSTM model\n",
    "bilstm_pipeline(epochs = 10, batch_size = 32)\n",
    "\n",
    "# train, validate and test the BERT based model and the distilBERT based model\n",
    "plms_pipelines(epochs = 2, batch_size = 8)"
   ]
  }
 ],
 "metadata": {
  "kernelspec": {
   "display_name": "Python 3 (ipykernel)",
   "language": "python",
   "name": "python3"
  },
  "language_info": {
   "codemirror_mode": {
    "name": "ipython",
    "version": 3
   },
   "file_extension": ".py",
   "mimetype": "text/x-python",
   "name": "python",
   "nbconvert_exporter": "python",
   "pygments_lexer": "ipython3",
   "version": "3.9.7"
  }
 },
 "nbformat": 4,
 "nbformat_minor": 5
}
